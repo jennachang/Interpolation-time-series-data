{
 "cells": [
  {
   "cell_type": "markdown",
   "id": "7a225903",
   "metadata": {},
   "source": [
    "### 0. import raw data\n",
    "\n",
    "gdp index 2019 = 100"
   ]
  },
  {
   "cell_type": "code",
   "execution_count": 20,
   "id": "638e278b",
   "metadata": {
    "scrolled": true
   },
   "outputs": [
    {
     "data": {
      "text/html": [
       "<div>\n",
       "<style scoped>\n",
       "    .dataframe tbody tr th:only-of-type {\n",
       "        vertical-align: middle;\n",
       "    }\n",
       "\n",
       "    .dataframe tbody tr th {\n",
       "        vertical-align: top;\n",
       "    }\n",
       "\n",
       "    .dataframe thead th {\n",
       "        text-align: right;\n",
       "    }\n",
       "</style>\n",
       "<table border=\"1\" class=\"dataframe\">\n",
       "  <thead>\n",
       "    <tr style=\"text-align: right;\">\n",
       "      <th></th>\n",
       "      <th>gdp</th>\n",
       "      <th>gdp_m%</th>\n",
       "      <th>gdp_m%_1y</th>\n",
       "      <th>gdp_3m%_1y</th>\n",
       "      <th>gdp_3m%</th>\n",
       "    </tr>\n",
       "    <tr>\n",
       "      <th>mm-yy</th>\n",
       "      <th></th>\n",
       "      <th></th>\n",
       "      <th></th>\n",
       "      <th></th>\n",
       "      <th></th>\n",
       "    </tr>\n",
       "  </thead>\n",
       "  <tbody>\n",
       "    <tr>\n",
       "      <th>2021-01-01</th>\n",
       "      <td>89.6</td>\n",
       "      <td>-2.9</td>\n",
       "      <td>-11.1</td>\n",
       "      <td>-0.9</td>\n",
       "      <td>-9.6</td>\n",
       "    </tr>\n",
       "    <tr>\n",
       "      <th>2021-02-01</th>\n",
       "      <td>90.2</td>\n",
       "      <td>0.7</td>\n",
       "      <td>-10.0</td>\n",
       "      <td>-1.0</td>\n",
       "      <td>-9.7</td>\n",
       "    </tr>\n",
       "    <tr>\n",
       "      <th>2021-03-01</th>\n",
       "      <td>92.2</td>\n",
       "      <td>2.3</td>\n",
       "      <td>-1.0</td>\n",
       "      <td>-1.2</td>\n",
       "      <td>-7.5</td>\n",
       "    </tr>\n",
       "    <tr>\n",
       "      <th>2021-04-01</th>\n",
       "      <td>95.1</td>\n",
       "      <td>3.1</td>\n",
       "      <td>29.1</td>\n",
       "      <td>1.8</td>\n",
       "      <td>3.9</td>\n",
       "    </tr>\n",
       "    <tr>\n",
       "      <th>2021-05-01</th>\n",
       "      <td>96.3</td>\n",
       "      <td>1.3</td>\n",
       "      <td>26.8</td>\n",
       "      <td>4.3</td>\n",
       "      <td>16.9</td>\n",
       "    </tr>\n",
       "  </tbody>\n",
       "</table>\n",
       "</div>"
      ],
      "text/plain": [
       "             gdp  gdp_m%  gdp_m%_1y  gdp_3m%_1y  gdp_3m%\n",
       "mm-yy                                                   \n",
       "2021-01-01  89.6    -2.9      -11.1        -0.9     -9.6\n",
       "2021-02-01  90.2     0.7      -10.0        -1.0     -9.7\n",
       "2021-03-01  92.2     2.3       -1.0        -1.2     -7.5\n",
       "2021-04-01  95.1     3.1       29.1         1.8      3.9\n",
       "2021-05-01  96.3     1.3       26.8         4.3     16.9"
      ]
     },
     "execution_count": 20,
     "metadata": {},
     "output_type": "execute_result"
    }
   ],
   "source": [
    "import pandas as pd\n",
    "import numpy as np\n",
    "import matplotlib.pyplot as plt\n",
    "from datetime import datetime\n",
    "\n",
    "def parser(x):\n",
    "    return datetime.strptime('%Y-%m')\n",
    "\n",
    "df0 = pd.read_excel(r\"C:\\Users\\jenna.chang\\OneDrive - Accenture\\Desktop\\MacroEcon_data\\GDP.xlsx\", header=0, parse_dates=[0], index_col=0)\n",
    "df0.head()"
   ]
  },
  {
   "cell_type": "code",
   "execution_count": 21,
   "id": "87296827",
   "metadata": {},
   "outputs": [
    {
     "data": {
      "text/html": [
       "<div>\n",
       "<style scoped>\n",
       "    .dataframe tbody tr th:only-of-type {\n",
       "        vertical-align: middle;\n",
       "    }\n",
       "\n",
       "    .dataframe tbody tr th {\n",
       "        vertical-align: top;\n",
       "    }\n",
       "\n",
       "    .dataframe thead th {\n",
       "        text-align: right;\n",
       "    }\n",
       "</style>\n",
       "<table border=\"1\" class=\"dataframe\">\n",
       "  <thead>\n",
       "    <tr style=\"text-align: right;\">\n",
       "      <th></th>\n",
       "      <th>gdp</th>\n",
       "    </tr>\n",
       "    <tr>\n",
       "      <th>mm-yy</th>\n",
       "      <th></th>\n",
       "    </tr>\n",
       "  </thead>\n",
       "  <tbody>\n",
       "    <tr>\n",
       "      <th>2021-01-01</th>\n",
       "      <td>89.6</td>\n",
       "    </tr>\n",
       "    <tr>\n",
       "      <th>2021-02-01</th>\n",
       "      <td>90.2</td>\n",
       "    </tr>\n",
       "    <tr>\n",
       "      <th>2021-03-01</th>\n",
       "      <td>92.2</td>\n",
       "    </tr>\n",
       "    <tr>\n",
       "      <th>2021-04-01</th>\n",
       "      <td>95.1</td>\n",
       "    </tr>\n",
       "    <tr>\n",
       "      <th>2021-05-01</th>\n",
       "      <td>96.3</td>\n",
       "    </tr>\n",
       "  </tbody>\n",
       "</table>\n",
       "</div>"
      ],
      "text/plain": [
       "             gdp\n",
       "mm-yy           \n",
       "2021-01-01  89.6\n",
       "2021-02-01  90.2\n",
       "2021-03-01  92.2\n",
       "2021-04-01  95.1\n",
       "2021-05-01  96.3"
      ]
     },
     "execution_count": 21,
     "metadata": {},
     "output_type": "execute_result"
    }
   ],
   "source": [
    "# convert first column to a datetime column\n",
    "#df0[[\"mm-yy\"]] = df0[[\"mm-yy\"]].apply(pd.to_datetime)\n",
    "#df0.head()\n",
    "# choose gdp\n",
    "df = df0[['gdp']]\n",
    "df.head()\n",
    "#print (df.dtypes)"
   ]
  },
  {
   "cell_type": "code",
   "execution_count": 22,
   "id": "a7097c16",
   "metadata": {},
   "outputs": [
    {
     "data": {
      "image/png": "[encoded data removed]",
      "text/plain": [
       "<Figure size 640x480 with 1 Axes>"
      ]
     },
     "metadata": {},
     "output_type": "display_data"
    }
   ],
   "source": [
    "# Plotting the time series of given dataframe\n",
    "#plt.plot(df_gdp[[\"mm-yy\"]], df_gdp[[\"gdp\"]] )\n",
    "#plt.rcParams['figure.figsize'] =(9,3)\n",
    "#plt.show()\n",
    "from matplotlib import pyplot\n",
    "df.plot()\n",
    "pyplot.show()"
   ]
  },
  {
   "cell_type": "markdown",
   "id": "7fbc5e8f",
   "metadata": {},
   "source": [
    "### 1. interpolate monthly to weekly data\n",
    "\n",
    "interpolate methods : https://docs.scipy.org/doc/scipy/tutorial/interpolate.html"
   ]
  },
  {
   "cell_type": "markdown",
   "id": "a814a175",
   "metadata": {},
   "source": [
    "###  1.1 constructing new data points - days"
   ]
  },
  {
   "cell_type": "code",
   "execution_count": 23,
   "id": "02bb8a45",
   "metadata": {},
   "outputs": [
    {
     "data": {
      "text/plain": [
       "mm-yy\n",
       "2021-01-01    89.6\n",
       "2021-02-01    90.2\n",
       "2021-03-01    92.2\n",
       "2021-04-01    95.1\n",
       "2021-05-01    96.3\n",
       "Name: gdp, dtype: float64"
      ]
     },
     "execution_count": 23,
     "metadata": {},
     "output_type": "execute_result"
    }
   ],
   "source": [
    "len(df[\"gdp\"])\n",
    "df[\"gdp\"].head()"
   ]
  },
  {
   "cell_type": "code",
   "execution_count": 24,
   "id": "e9646bf4",
   "metadata": {},
   "outputs": [
    {
     "name": "stdout",
     "output_type": "stream",
     "text": [
      "                  gdp\n",
      "mm-yy                \n",
      "2021-01-01  89.600000\n",
      "2021-01-02  89.590968\n",
      "2021-01-03  89.583893\n",
      "2021-01-04  89.578767\n",
      "2021-01-05  89.575583\n",
      "                   gdp\n",
      "mm-yy                 \n",
      "2023-03-28  100.352784\n",
      "2023-03-29  100.363418\n",
      "2023-03-30  100.374822\n",
      "2023-03-31  100.387011\n",
      "2023-04-01  100.400000\n",
      "<class 'pandas.core.frame.DataFrame'>\n"
     ]
    },
    {
     "data": {
      "image/png": "[encoded data removed]",
      "text/plain": [
       "<Figure size 1120x480 with 1 Axes>"
      ]
     },
     "metadata": {},
     "output_type": "display_data"
    }
   ],
   "source": [
    "from scipy.interpolate import CubicSpline, interp1d\n",
    "upsample_cubic = df.resample('D').asfreq().interpolate(method='cubic', axis=0, order=2)\n",
    "print(upsample_cubic.head())\n",
    "print(upsample_cubic.tail())\n",
    "print(type(upsample_cubic))\n",
    "#upsample_s.plot()\n",
    "#x = df.index.values.astype('d') #convert mm-yy back to float\n",
    "\n",
    "from matplotlib.pyplot import figure\n",
    "\n",
    "figure(figsize=(14, 6), dpi=80)\n",
    "\n",
    "plt.plot(df[\"gdp\"], label = \"monthly\")\n",
    "plt.plot(upsample_cubic, label = \"daily\")\n",
    "plt.legend()\n",
    "plt.show()"
   ]
  },
  {
   "cell_type": "markdown",
   "id": "5bde76c4",
   "metadata": {},
   "source": [
    "### 2. Generate the analytical data - daily gdp"
   ]
  },
  {
   "cell_type": "code",
   "execution_count": 25,
   "id": "8b66ce63",
   "metadata": {},
   "outputs": [
    {
     "name": "stdout",
     "output_type": "stream",
     "text": [
      "DatetimeIndex(['2021-01-01', '2021-01-02', '2021-01-03', '2021-01-04',\n",
      "               '2021-01-05', '2021-01-06', '2021-01-07', '2021-01-08',\n",
      "               '2021-01-09', '2021-01-10',\n",
      "               ...\n",
      "               '2023-03-23', '2023-03-24', '2023-03-25', '2023-03-26',\n",
      "               '2023-03-27', '2023-03-28', '2023-03-29', '2023-03-30',\n",
      "               '2023-03-31', '2023-04-01'],\n",
      "              dtype='datetime64[ns]', name='yyyy-mm-dd', length=821, freq='D')\n"
     ]
    }
   ],
   "source": [
    "#change date index name \n",
    "upsample_cubic.index.names = ['yyyy-mm-dd']\n",
    "print(upsample_cubic.index) "
   ]
  },
  {
   "cell_type": "markdown",
   "id": "ae495f43",
   "metadata": {},
   "source": [
    "## 3.output daily data to a new spreadsheet"
   ]
  },
  {
   "cell_type": "code",
   "execution_count": 26,
   "id": "c0b6806f",
   "metadata": {},
   "outputs": [],
   "source": [
    "upsample_cubic.index = upsample_cubic.index.date\n",
    "upsample_cubic.to_excel('daily - gdp.xlsx')"
   ]
  }
 ],
 "metadata": {
  "kernelspec": {
   "display_name": "Python 3 (ipykernel)",
   "language": "python",
   "name": "python3"
  },
  "language_info": {
   "codemirror_mode": {
    "name": "ipython",
    "version": 3
   },
   "file_extension": ".py",
   "mimetype": "text/x-python",
   "name": "python",
   "nbconvert_exporter": "python",
   "pygments_lexer": "ipython3",
   "version": "3.10.9"
  }
 },
 "nbformat": 4,
 "nbformat_minor": 5
}
